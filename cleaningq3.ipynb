{
  "nbformat": 4,
  "nbformat_minor": 0,
  "metadata": {
    "colab": {
      "provenance": []
    },
    "kernelspec": {
      "name": "python3",
      "display_name": "Python 3"
    },
    "language_info": {
      "name": "python"
    }
  },
  "cells": [
    {
      "cell_type": "code",
      "execution_count": 27,
      "metadata": {
        "id": "I5HuIA9oB_s8"
      },
      "outputs": [],
      "source": [
        "import pandas as pd\n",
        "\n",
        "df = pd.read_csv('/content/foraging_survey.csv')\n"
      ]
    },
    {
      "cell_type": "code",
      "source": [
        "# rename column\n",
        "df.rename(columns={'Besides Falling Fruit, what other resources do you use for foraging?': 'Foraging Resources'}, inplace=True)\n",
        "\n",
        "# replace empty cells with \"None\"\n",
        "df['Foraging Resources'] = df['Foraging Resources'].apply(lambda x: 'None' if str(x).strip() == '' else x)"
      ],
      "metadata": {
        "id": "v5Jc6XiJIe18"
      },
      "execution_count": 31,
      "outputs": []
    },
    {
      "cell_type": "code",
      "source": [
        "print(df.columns.tolist())"
      ],
      "metadata": {
        "colab": {
          "base_uri": "https://localhost:8080/"
        },
        "id": "nBKlsz66Il-2",
        "outputId": "09b5bbc1-755a-4be5-c9a5-f9fab07a7f92"
      },
      "execution_count": 32,
      "outputs": [
        {
          "output_type": "stream",
          "name": "stdout",
          "text": [
            "['Timestamp', 'How long have you been foraging?', 'What kinds of environments do you forage in?', 'Have you heard of Falling Fruit?', 'Have you used the Falling Fruit website or app?', 'How did you find out about Falling Fruit?', 'How long have you been using Falling Fruit?', 'What do you like about the website or app?', 'What do you dislike about the website or app? What features are hard to use?', 'What would you change about the website or app?', 'What are your goals when foraging?', 'How did you get into foraging?', 'Are you involved in a foraging community? We define \"community\" as a group of people living in the same place that gives a sense of fellowship or belonging that often share similar interests or goals.', 'If yes to the question above, how did you get involved with your community?', 'What do you like to do in your foraging community, or what things would you like to do with your community?', 'Foraging Resources', 'Additional Comments/Concerns', 'What are your overall thoughts about foraging on private property?', 'Have you ever harvested from trees inside private property?', 'If a fruit tree isn’t accessible from the street, how comfortable would you feel walking onto someone’s property to harvest assuming it is marked as okay to pick?', 'Please explain your choice.', 'What are some benefits or concerns about harvesting from private trees?', 'If there was a way to see information about fruit trees on private property (that are okay to forage from), what kind of details would you want to see?', 'Do you have fruit-bearing trees on your property?', 'Are your trees directly accessible from the street or sidewalk?', 'Would you be open to letting people pick from your trees if there are ways to set clear boundaries?', 'If you selected no, please briefly explain why.', 'Have you ever resorted to your own methods to encourage or discourage harvesting fruit from your trees?', 'Have you ever had foragers pick from your tree?', 'If you selected yes to the previous question, how did it go? ', 'If there was a feature to share information about your fruit trees with potential harvesters, what kind of details would you want to include?', 'Age', 'Country', 'If you are located in the US, what state?']\n"
          ]
        }
      ]
    },
    {
      "cell_type": "code",
      "source": [
        "df['Foraging Resources']"
      ],
      "metadata": {
        "colab": {
          "base_uri": "https://localhost:8080/",
          "height": 458
        },
        "id": "ol4NkZFmIyLR",
        "outputId": "6326e53b-c1b9-44b4-bbd4-8b4c131910b4"
      },
      "execution_count": 34,
      "outputs": [
        {
          "output_type": "execute_result",
          "data": {
            "text/plain": [
              "0                                          Growables.org\n",
              "1                                                    NaN\n",
              "2                                         Reddit, google\n",
              "3                                                    NaN\n",
              "4                                                    NaN\n",
              "                             ...                        \n",
              "145                                                Books\n",
              "146                           Field guides, the internet\n",
              "147                                                  NaN\n",
              "148                                                  NaN\n",
              "149    PictureThis, google lens, and Seek for plant i...\n",
              "Name: Foraging Resources, Length: 150, dtype: object"
            ],
            "text/html": [
              "<div>\n",
              "<style scoped>\n",
              "    .dataframe tbody tr th:only-of-type {\n",
              "        vertical-align: middle;\n",
              "    }\n",
              "\n",
              "    .dataframe tbody tr th {\n",
              "        vertical-align: top;\n",
              "    }\n",
              "\n",
              "    .dataframe thead th {\n",
              "        text-align: right;\n",
              "    }\n",
              "</style>\n",
              "<table border=\"1\" class=\"dataframe\">\n",
              "  <thead>\n",
              "    <tr style=\"text-align: right;\">\n",
              "      <th></th>\n",
              "      <th>Foraging Resources</th>\n",
              "    </tr>\n",
              "  </thead>\n",
              "  <tbody>\n",
              "    <tr>\n",
              "      <th>0</th>\n",
              "      <td>Growables.org</td>\n",
              "    </tr>\n",
              "    <tr>\n",
              "      <th>1</th>\n",
              "      <td>NaN</td>\n",
              "    </tr>\n",
              "    <tr>\n",
              "      <th>2</th>\n",
              "      <td>Reddit, google</td>\n",
              "    </tr>\n",
              "    <tr>\n",
              "      <th>3</th>\n",
              "      <td>NaN</td>\n",
              "    </tr>\n",
              "    <tr>\n",
              "      <th>4</th>\n",
              "      <td>NaN</td>\n",
              "    </tr>\n",
              "    <tr>\n",
              "      <th>...</th>\n",
              "      <td>...</td>\n",
              "    </tr>\n",
              "    <tr>\n",
              "      <th>145</th>\n",
              "      <td>Books</td>\n",
              "    </tr>\n",
              "    <tr>\n",
              "      <th>146</th>\n",
              "      <td>Field guides, the internet</td>\n",
              "    </tr>\n",
              "    <tr>\n",
              "      <th>147</th>\n",
              "      <td>NaN</td>\n",
              "    </tr>\n",
              "    <tr>\n",
              "      <th>148</th>\n",
              "      <td>NaN</td>\n",
              "    </tr>\n",
              "    <tr>\n",
              "      <th>149</th>\n",
              "      <td>PictureThis, google lens, and Seek for plant i...</td>\n",
              "    </tr>\n",
              "  </tbody>\n",
              "</table>\n",
              "<p>150 rows × 1 columns</p>\n",
              "</div><br><label><b>dtype:</b> object</label>"
            ]
          },
          "metadata": {},
          "execution_count": 34
        }
      ]
    },
    {
      "cell_type": "code",
      "source": [
        "df['Foraging Resources'] = df['Foraging Resources'].fillna('None')"
      ],
      "metadata": {
        "id": "e40oOX7uJjah"
      },
      "execution_count": 35,
      "outputs": []
    },
    {
      "cell_type": "code",
      "source": [
        "df['Foraging Resources']"
      ],
      "metadata": {
        "id": "rnWe0kllJm8v",
        "outputId": "21ef8bb0-f54b-4fb5-ca2e-07466cf0d15e",
        "colab": {
          "base_uri": "https://localhost:8080/",
          "height": 458
        }
      },
      "execution_count": 36,
      "outputs": [
        {
          "output_type": "execute_result",
          "data": {
            "text/plain": [
              "0                                          Growables.org\n",
              "1                                                   None\n",
              "2                                         Reddit, google\n",
              "3                                                   None\n",
              "4                                                   None\n",
              "                             ...                        \n",
              "145                                                Books\n",
              "146                           Field guides, the internet\n",
              "147                                                 None\n",
              "148                                                 None\n",
              "149    PictureThis, google lens, and Seek for plant i...\n",
              "Name: Foraging Resources, Length: 150, dtype: object"
            ],
            "text/html": [
              "<div>\n",
              "<style scoped>\n",
              "    .dataframe tbody tr th:only-of-type {\n",
              "        vertical-align: middle;\n",
              "    }\n",
              "\n",
              "    .dataframe tbody tr th {\n",
              "        vertical-align: top;\n",
              "    }\n",
              "\n",
              "    .dataframe thead th {\n",
              "        text-align: right;\n",
              "    }\n",
              "</style>\n",
              "<table border=\"1\" class=\"dataframe\">\n",
              "  <thead>\n",
              "    <tr style=\"text-align: right;\">\n",
              "      <th></th>\n",
              "      <th>Foraging Resources</th>\n",
              "    </tr>\n",
              "  </thead>\n",
              "  <tbody>\n",
              "    <tr>\n",
              "      <th>0</th>\n",
              "      <td>Growables.org</td>\n",
              "    </tr>\n",
              "    <tr>\n",
              "      <th>1</th>\n",
              "      <td>None</td>\n",
              "    </tr>\n",
              "    <tr>\n",
              "      <th>2</th>\n",
              "      <td>Reddit, google</td>\n",
              "    </tr>\n",
              "    <tr>\n",
              "      <th>3</th>\n",
              "      <td>None</td>\n",
              "    </tr>\n",
              "    <tr>\n",
              "      <th>4</th>\n",
              "      <td>None</td>\n",
              "    </tr>\n",
              "    <tr>\n",
              "      <th>...</th>\n",
              "      <td>...</td>\n",
              "    </tr>\n",
              "    <tr>\n",
              "      <th>145</th>\n",
              "      <td>Books</td>\n",
              "    </tr>\n",
              "    <tr>\n",
              "      <th>146</th>\n",
              "      <td>Field guides, the internet</td>\n",
              "    </tr>\n",
              "    <tr>\n",
              "      <th>147</th>\n",
              "      <td>None</td>\n",
              "    </tr>\n",
              "    <tr>\n",
              "      <th>148</th>\n",
              "      <td>None</td>\n",
              "    </tr>\n",
              "    <tr>\n",
              "      <th>149</th>\n",
              "      <td>PictureThis, google lens, and Seek for plant i...</td>\n",
              "    </tr>\n",
              "  </tbody>\n",
              "</table>\n",
              "<p>150 rows × 1 columns</p>\n",
              "</div><br><label><b>dtype:</b> object</label>"
            ]
          },
          "metadata": {},
          "execution_count": 36
        }
      ]
    },
    {
      "cell_type": "code",
      "source": [],
      "metadata": {
        "id": "GyiX_IWiJoT4"
      },
      "execution_count": null,
      "outputs": []
    }
  ]
}