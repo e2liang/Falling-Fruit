{
  "nbformat": 4,
  "nbformat_minor": 0,
  "metadata": {
    "colab": {
      "provenance": []
    },
    "kernelspec": {
      "name": "python3",
      "display_name": "Python 3"
    },
    "language_info": {
      "name": "python"
    }
  },
  "cells": [
    {
      "cell_type": "markdown",
      "source": [
        "# Setup"
      ],
      "metadata": {
        "id": "Q984ODkx6XLY"
      }
    },
    {
      "cell_type": "code",
      "source": [
        "import pandas as pd\n",
        "!pip install gspread oauth2client\n",
        "import numpy as np"
      ],
      "metadata": {
        "id": "VQT4-pLtXLTx",
        "collapsed": true,
        "colab": {
          "base_uri": "https://localhost:8080/"
        },
        "outputId": "3aa7c234-e799-4d86-c020-eb41518df6a9"
      },
      "execution_count": 1,
      "outputs": [
        {
          "output_type": "stream",
          "name": "stdout",
          "text": [
            "Requirement already satisfied: gspread in /usr/local/lib/python3.11/dist-packages (6.2.1)\n",
            "Requirement already satisfied: oauth2client in /usr/local/lib/python3.11/dist-packages (4.1.3)\n",
            "Requirement already satisfied: google-auth>=1.12.0 in /usr/local/lib/python3.11/dist-packages (from gspread) (2.38.0)\n",
            "Requirement already satisfied: google-auth-oauthlib>=0.4.1 in /usr/local/lib/python3.11/dist-packages (from gspread) (1.2.2)\n",
            "Requirement already satisfied: httplib2>=0.9.1 in /usr/local/lib/python3.11/dist-packages (from oauth2client) (0.22.0)\n",
            "Requirement already satisfied: pyasn1>=0.1.7 in /usr/local/lib/python3.11/dist-packages (from oauth2client) (0.6.1)\n",
            "Requirement already satisfied: pyasn1-modules>=0.0.5 in /usr/local/lib/python3.11/dist-packages (from oauth2client) (0.4.2)\n",
            "Requirement already satisfied: rsa>=3.1.4 in /usr/local/lib/python3.11/dist-packages (from oauth2client) (4.9.1)\n",
            "Requirement already satisfied: six>=1.6.1 in /usr/local/lib/python3.11/dist-packages (from oauth2client) (1.17.0)\n",
            "Requirement already satisfied: cachetools<6.0,>=2.0.0 in /usr/local/lib/python3.11/dist-packages (from google-auth>=1.12.0->gspread) (5.5.2)\n",
            "Requirement already satisfied: requests-oauthlib>=0.7.0 in /usr/local/lib/python3.11/dist-packages (from google-auth-oauthlib>=0.4.1->gspread) (2.0.0)\n",
            "Requirement already satisfied: pyparsing!=3.0.0,!=3.0.1,!=3.0.2,!=3.0.3,<4,>=2.4.2 in /usr/local/lib/python3.11/dist-packages (from httplib2>=0.9.1->oauth2client) (3.2.3)\n",
            "Requirement already satisfied: oauthlib>=3.0.0 in /usr/local/lib/python3.11/dist-packages (from requests-oauthlib>=0.7.0->google-auth-oauthlib>=0.4.1->gspread) (3.3.1)\n",
            "Requirement already satisfied: requests>=2.0.0 in /usr/local/lib/python3.11/dist-packages (from requests-oauthlib>=0.7.0->google-auth-oauthlib>=0.4.1->gspread) (2.32.3)\n",
            "Requirement already satisfied: charset-normalizer<4,>=2 in /usr/local/lib/python3.11/dist-packages (from requests>=2.0.0->requests-oauthlib>=0.7.0->google-auth-oauthlib>=0.4.1->gspread) (3.4.2)\n",
            "Requirement already satisfied: idna<4,>=2.5 in /usr/local/lib/python3.11/dist-packages (from requests>=2.0.0->requests-oauthlib>=0.7.0->google-auth-oauthlib>=0.4.1->gspread) (3.10)\n",
            "Requirement already satisfied: urllib3<3,>=1.21.1 in /usr/local/lib/python3.11/dist-packages (from requests>=2.0.0->requests-oauthlib>=0.7.0->google-auth-oauthlib>=0.4.1->gspread) (2.4.0)\n",
            "Requirement already satisfied: certifi>=2017.4.17 in /usr/local/lib/python3.11/dist-packages (from requests>=2.0.0->requests-oauthlib>=0.7.0->google-auth-oauthlib>=0.4.1->gspread) (2025.6.15)\n"
          ]
        }
      ]
    },
    {
      "source": [
        "# Connect to google drive\n",
        "from google.colab import drive\n",
        "drive.mount('/content/drive')\n",
        "\n",
        "from google.colab import auth\n",
        "auth.authenticate_user()\n",
        "\n",
        "import gspread\n",
        "from google.auth import default\n",
        "creds, _ = default()"
      ],
      "cell_type": "code",
      "metadata": {
        "colab": {
          "base_uri": "https://localhost:8080/"
        },
        "collapsed": true,
        "id": "PUT-bU9KMYZM",
        "outputId": "cde58997-391d-4707-d8a4-9f16547cec21"
      },
      "execution_count": 2,
      "outputs": [
        {
          "output_type": "stream",
          "name": "stdout",
          "text": [
            "Mounted at /content/drive\n"
          ]
        }
      ]
    },
    {
      "cell_type": "code",
      "source": [
        "# Get spreadsheet from google drive\n",
        "gc = gspread.authorize(creds)\n",
        "\n",
        "spreadsheet = gc.open('Team 3 survey responses')\n",
        "\n",
        "# Select the first worksheet\n",
        "worksheet = spreadsheet.sheet1\n",
        "data = worksheet.get_all_values()"
      ],
      "metadata": {
        "id": "UkZwD9L4NG6-"
      },
      "execution_count": 3,
      "outputs": []
    },
    {
      "cell_type": "markdown",
      "source": [
        "## Reading spreadsheet into dataframe"
      ],
      "metadata": {
        "id": "zqKGR_oZ7Sqe"
      }
    },
    {
      "cell_type": "code",
      "execution_count": 4,
      "metadata": {
        "id": "jF8HSqz8UQtA",
        "collapsed": true
      },
      "outputs": [],
      "source": [
        "df = pd.DataFrame(data[1:], columns=data[0]) # assuming the first row is header\n",
        "\n",
        "# Isolating private property section\n",
        "ourQs = [\n",
        "    \"What are your overall thoughts about foraging on private property?\",\n",
        "    \"Have you ever harvested from trees inside private property?\",\n",
        "    \"If a fruit tree isn’t accessible from the street, how comfortable would you feel walking onto someone’s property to harvest assuming it is marked as okay to pick?\",\n",
        "    \"Please explain your choice.\",\n",
        "    \"What are some benefits or concerns about harvesting from private trees?\",\n",
        "    \"If there was a way to see information about fruit trees on private property (that are okay to forage from), what kind of details would you want to see?\",\n",
        "    \"Do you have fruit-bearing trees on your property?\",\n",
        "    \"Are your trees directly accessible from the street or sidewalk?\",\n",
        "    \"Would you be open to letting people pick from your trees if there are ways to set clear boundaries?\",\n",
        "    \"If you selected no, please briefly explain why.\",\n",
        "    \"Have you ever resorted to your own methods to encourage or discourage harvesting fruit from your trees?\",\n",
        "    \"Have you ever had foragers pick from your tree?\",\n",
        "    \"If you selected yes to the previous question, how did it go?\",\n",
        "    \"If there was a feature to share information about your fruit trees with potential harvesters, what kind of details would you want to include?\"\n",
        "]\n",
        "df = df[ourQs]\n",
        "\n",
        "# Rename columns\n",
        "newNames = {\n",
        "    \"What are your overall thoughts about foraging on private property?\": \"Overall thoughts\",\n",
        "    \"Have you ever harvested from trees inside private property?\": \"Harvested on private property?\",\n",
        "    \"If a fruit tree isn’t accessible from the street, how comfortable would you feel walking onto someone’s property to harvest assuming it is marked as okay to pick?\": \"How comfortable foraging on PP with permission?\",\n",
        "    \"Please explain your choice.\": \"Explain how comfortable\",\n",
        "    \"What are some benefits or concerns about harvesting from private trees?\": \"Benefits/concerns\",\n",
        "    \"If there was a way to see information about fruit trees on private property (that are okay to forage from), what kind of details would you want to see?\": \"What kinds of information about private trees should be included?\",\n",
        "    \"Do you have fruit-bearing trees on your property?\": \"Have private trees?\",\n",
        "    \"Are your trees directly accessible from the street or sidewalk?\": \"Street accessible private trees?\",\n",
        "    \"Would you be open to letting people pick from your trees if there are ways to set clear boundaries?\": \"Open to allowing foragers if can set boundaries?\",\n",
        "    \"If you selected no, please briefly explain why.\": \"Explain no answer\",\n",
        "    \"Have you ever resorted to your own methods to encourage or discourage harvesting fruit from your trees?\": \"Use own methods to encourage or discourage foraging your trees?\",\n",
        "    \"Have you ever had foragers pick from your tree?\": \"Had foragers pick from your tree?\",\n",
        "    \"If you selected yes to the previous question, how did it go?\": \"If yes, how did it go?\",\n",
        "    \"If there was a feature to share information about your fruit trees with potential harvesters, what kind of details would you want to include?\": \"What tree details should be shared with harvesters?\"\n",
        "}\n",
        "df = df.rename(columns=newNames)"
      ]
    },
    {
      "cell_type": "code",
      "source": [
        "# Standardizing responses\n",
        "\n",
        "nonNumCols = df.select_dtypes(exclude=['number']).columns.tolist()\n",
        "\n",
        "for col in nonNumCols:\n",
        "    df[col] = df[col].str.strip().str.lower()\n",
        "\n",
        "# Replace empty entries with NaN\n",
        "df.replace(r'^\\s*$', np.nan, regex=True, inplace=True)"
      ],
      "metadata": {
        "id": "q2hUcpbranq5"
      },
      "execution_count": 5,
      "outputs": []
    },
    {
      "cell_type": "markdown",
      "source": [
        "## Split into forager and owner dataframes"
      ],
      "metadata": {
        "id": "JR7YsROI6-zH"
      }
    },
    {
      "cell_type": "code",
      "source": [
        "# Foragers dataframe\n",
        "foragers_df = df[\n",
        "    [\n",
        "        \"Overall thoughts\",\n",
        "        \"Harvested on private property?\",\n",
        "        \"How comfortable foraging on PP with permission?\",\n",
        "        \"Explain how comfortable\",\n",
        "        \"Benefits/concerns\",\n",
        "        \"What kinds of information about private trees should be included?\",\n",
        "        \"Have private trees?\"\n",
        "    ]\n",
        "].copy()\n",
        "\n",
        "# Owners dataframe\n",
        "owners_df = df[df[\"Have private trees?\"] == \"yes\"].copy()\n",
        "owners_df = owners_df[\n",
        "    [\n",
        "        \"Street accessible private trees?\",\n",
        "        \"Open to allowing foragers if can set boundaries?\",\n",
        "        \"Explain no answer\",\n",
        "        \"Use own methods to encourage or discourage foraging your trees?\",\n",
        "        \"Had foragers pick from your tree?\",\n",
        "        \"If yes, how did it go?\",\n",
        "        \"What tree details should be shared with harvesters?\"\n",
        "    ]\n",
        "]"
      ],
      "metadata": {
        "id": "k4AjeP-phYMA"
      },
      "execution_count": 6,
      "outputs": []
    },
    {
      "cell_type": "markdown",
      "source": [
        "## Helpers"
      ],
      "metadata": {
        "id": "42NSr4Fa67TS"
      }
    },
    {
      "cell_type": "code",
      "source": [
        "# Define stopwords\n",
        "stopwords = {\"i\", \"the\", \"to\", \"a\", \"its\", \"it\", \"and\", \"it's\"}\n",
        "\n",
        "# Function to remove stopwords from a string\n",
        "def removeStopwords(text):\n",
        "    if pd.isna(text): return text\n",
        "    words = text.split()\n",
        "    filtered = [word for word in words if word not in stopwords]\n",
        "    return \" \".join(filtered)"
      ],
      "metadata": {
        "id": "JtP4zVCKhhmR"
      },
      "execution_count": 7,
      "outputs": []
    },
    {
      "cell_type": "markdown",
      "source": [
        "# Organization guide\n",
        "**General foraging questions**\n",
        "1. Overall thoughts  *\n",
        "2. Harvested on private property?\n",
        "3. How comfortable foraging on PP with permission? + Explain how comfortable  *\n",
        "4. Benefits/concerns  *\n",
        "5. What kinds of information about private trees should be included?\t *\n",
        "---\n",
        "**Tree owner questions**\n",
        "6. Have private trees?\n",
        "7. Street accessible private trees?\n",
        "8. Open to allowing foragers if can set boundaries?\t+ Explain no answer  *\n",
        "9. Use own methods to encourage or discourage foraging your trees?\n",
        "10. Had foragers pick from your tree?\t+ If yes, how did it go?  \t*\n",
        "11. What tree details should be shared with harvesters?  *\n",
        "\n",
        "multi-select: 5, 11\n",
        "\n",
        "ranking: 3\n",
        "\n",
        "qualitative: 1, 4\n",
        "\n",
        "sort binary ans: 8, 10\n",
        "\n",
        "---\n"
      ],
      "metadata": {
        "id": "ROZtupvKO9-P"
      }
    },
    {
      "cell_type": "markdown",
      "source": [
        "# Cleaning Q5 & Q11"
      ],
      "metadata": {
        "id": "CHbXMHvb52xd"
      }
    },
    {
      "cell_type": "code",
      "source": [
        "#Q5\n",
        "Q5 = \"What kinds of information about private trees should be included?\"\n",
        "\n",
        "Q5_filtered = foragers_df[Q5]\n",
        "Q5_filteredDF = Q5_filtered.to_frame(name=Q5)\n",
        "\n",
        "# Split by commas and trim whitespace\n",
        "Q5_split = Q5_filtered.apply(lambda x: [item.strip() for item in x.split(',')])\n",
        "\n",
        "# Explode into separate rows\n",
        "Q5_exploded = Q5_split.explode().reset_index(drop=True)\n",
        "\n",
        "# Turn value counts into DataFrame with reset_index\n",
        "Q5_counts_df = Q5_exploded.value_counts().reset_index()\n",
        "\n",
        "# Display\n",
        "# Q5_counts_df"
      ],
      "metadata": {
        "id": "kYhODyydfN8D"
      },
      "execution_count": 16,
      "outputs": []
    },
    {
      "cell_type": "code",
      "source": [
        "#Q11\n",
        "Q11 = \"What tree details should be shared with harvesters?\"\n",
        "\n",
        "Q11_col = owners_df[Q11]\n",
        "Q11_DF = Q11_col.to_frame(name=Q11)\n",
        "\n",
        "# Split by commas and trim whitespace\n",
        "Q11_split = Q11_col.apply(lambda x: [item.strip() for item in x.split(',')])\n",
        "\n",
        "# Explode into separate rows\n",
        "Q11_exploded = Q11_split.explode().reset_index(drop=True)\n",
        "\n",
        "# Turn value counts into DataFrame with reset_index\n",
        "Q11_counts_df = Q11_exploded.value_counts().reset_index()\n",
        "\n",
        "# Display\n",
        "# Q11_counts_df"
      ],
      "metadata": {
        "id": "nf74mK_96JA_"
      },
      "execution_count": 19,
      "outputs": []
    },
    {
      "cell_type": "markdown",
      "source": [
        "#Cleaning Q3"
      ],
      "metadata": {
        "id": "1biB3--gHkGZ"
      }
    },
    {
      "cell_type": "code",
      "source": [
        "Q3_1 = \"How comfortable foraging on PP with permission?\"\n",
        "Q3_2 = \"Explain how comfortable\"\n",
        "\n",
        "Q3_DF = foragers_df[[Q3_1, Q3_2]]\n",
        "\n",
        "# group by the numeric rating in Q3_1\n",
        "Q3_grouped = Q3_DF.groupby(Q3_1)\n",
        "Q3_groupedDF = Q3_DF.sort_values(by=Q3_1).reset_index(drop=True)\n",
        "\n",
        "# Display\n",
        "# Q3_groupedDF"
      ],
      "metadata": {
        "id": "_2EhfQXJHp-6"
      },
      "execution_count": 27,
      "outputs": []
    },
    {
      "cell_type": "markdown",
      "source": [
        "#Cleaning Q1 & Q4 (nvm, ashley got it)"
      ],
      "metadata": {
        "id": "LPigeH1y6KjF"
      }
    },
    {
      "cell_type": "code",
      "source": [
        "\n",
        "# Q1 - Overall thoughts\n",
        "# Apply filter and remove all NaN rows, convert to df\n",
        "Q1_filtered = foragers_df[\"Overall thoughts\"].apply(removeStopwords)\n",
        "Q1_filtered = Q1_filtered.dropna(how=\"all\").to_frame(name=\"Overall thoughts\")\n",
        "\n",
        "# Q4 - Benefits/concerns\n",
        "# Apply filter and remove all NaN rows, convert to df\n",
        "Q4_filtered = foragers_df[\"Benefits/concerns\"].apply(removeStopwords)\n",
        "Q4_filtered = Q4_filtered.dropna(how=\"all\").to_frame(name=\"Benefits/concerns\")"
      ],
      "metadata": {
        "id": "iG6ZY_c9Oy0-"
      },
      "execution_count": 28,
      "outputs": []
    }
  ]
}