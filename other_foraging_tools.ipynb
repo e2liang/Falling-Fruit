{
  "nbformat": 4,
  "nbformat_minor": 0,
  "metadata": {
    "colab": {
      "provenance": []
    },
    "kernelspec": {
      "name": "python3",
      "display_name": "Python 3"
    },
    "language_info": {
      "name": "python"
    }
  },
  "cells": [
    {
      "cell_type": "code",
      "execution_count": 61,
      "metadata": {
        "id": "I5HuIA9oB_s8"
      },
      "outputs": [],
      "source": [
        "import pandas as pd\n",
        "\n",
        "df = pd.read_csv('/content/foraging_survey.csv')\n"
      ]
    },
    {
      "cell_type": "code",
      "source": [
        "# rename column\n",
        "df.rename(columns={'Besides Falling Fruit, what other resources do you use for foraging?': 'Foraging Resources'}, inplace=True)\n",
        "\n",
        "# replace empty cells with \"None\"\n",
        "df['Foraging Resources'] = df['Foraging Resources'].apply(lambda x: 'None' if str(x).strip() == '' else x)"
      ],
      "metadata": {
        "id": "v5Jc6XiJIe18"
      },
      "execution_count": 62,
      "outputs": []
    },
    {
      "cell_type": "code",
      "source": [
        "print(df.columns.tolist())"
      ],
      "metadata": {
        "colab": {
          "base_uri": "https://localhost:8080/"
        },
        "id": "nBKlsz66Il-2",
        "outputId": "af7079ff-0a97-4797-cd5b-5add621bc90a"
      },
      "execution_count": 63,
      "outputs": [
        {
          "output_type": "stream",
          "name": "stdout",
          "text": [
            "['Timestamp', 'How long have you been foraging?', 'What kinds of environments do you forage in?', 'Have you heard of Falling Fruit?', 'Have you used the Falling Fruit website or app?', 'How did you find out about Falling Fruit?', 'How long have you been using Falling Fruit?', 'What do you like about the website or app?', 'What do you dislike about the website or app? What features are hard to use?', 'What would you change about the website or app?', 'What are your goals when foraging?', 'How did you get into foraging?', 'Are you involved in a foraging community? We define \"community\" as a group of people living in the same place that gives a sense of fellowship or belonging that often share similar interests or goals.', 'If yes to the question above, how did you get involved with your community?', 'What do you like to do in your foraging community, or what things would you like to do with your community?', 'Foraging Resources', 'Additional Comments/Concerns', 'What are your overall thoughts about foraging on private property?', 'Have you ever harvested from trees inside private property?', 'If a fruit tree isn’t accessible from the street, how comfortable would you feel walking onto someone’s property to harvest assuming it is marked as okay to pick?', 'Please explain your choice.', 'What are some benefits or concerns about harvesting from private trees?', 'If there was a way to see information about fruit trees on private property (that are okay to forage from), what kind of details would you want to see?', 'Do you have fruit-bearing trees on your property?', 'Are your trees directly accessible from the street or sidewalk?', 'Would you be open to letting people pick from your trees if there are ways to set clear boundaries?', 'If you selected no, please briefly explain why.', 'Have you ever resorted to your own methods to encourage or discourage harvesting fruit from your trees?', 'Have you ever had foragers pick from your tree?', 'If you selected yes to the previous question, how did it go? ', 'If there was a feature to share information about your fruit trees with potential harvesters, what kind of details would you want to include?', 'Age', 'Country', 'If you are located in the US, what state?']\n"
          ]
        }
      ]
    },
    {
      "cell_type": "code",
      "source": [
        "df['Foraging Resources']"
      ],
      "metadata": {
        "colab": {
          "base_uri": "https://localhost:8080/",
          "height": 458
        },
        "id": "ol4NkZFmIyLR",
        "outputId": "6cde1533-9296-4e75-d4e4-1ae4e5a08c00"
      },
      "execution_count": 64,
      "outputs": [
        {
          "output_type": "execute_result",
          "data": {
            "text/plain": [
              "0                                          Growables.org\n",
              "1                                                    NaN\n",
              "2                                         Reddit, google\n",
              "3                                                    NaN\n",
              "4                                                    NaN\n",
              "                             ...                        \n",
              "145                                                Books\n",
              "146                           Field guides, the internet\n",
              "147                                                  NaN\n",
              "148                                                  NaN\n",
              "149    PictureThis, google lens, and Seek for plant i...\n",
              "Name: Foraging Resources, Length: 150, dtype: object"
            ],
            "text/html": [
              "<div>\n",
              "<style scoped>\n",
              "    .dataframe tbody tr th:only-of-type {\n",
              "        vertical-align: middle;\n",
              "    }\n",
              "\n",
              "    .dataframe tbody tr th {\n",
              "        vertical-align: top;\n",
              "    }\n",
              "\n",
              "    .dataframe thead th {\n",
              "        text-align: right;\n",
              "    }\n",
              "</style>\n",
              "<table border=\"1\" class=\"dataframe\">\n",
              "  <thead>\n",
              "    <tr style=\"text-align: right;\">\n",
              "      <th></th>\n",
              "      <th>Foraging Resources</th>\n",
              "    </tr>\n",
              "  </thead>\n",
              "  <tbody>\n",
              "    <tr>\n",
              "      <th>0</th>\n",
              "      <td>Growables.org</td>\n",
              "    </tr>\n",
              "    <tr>\n",
              "      <th>1</th>\n",
              "      <td>NaN</td>\n",
              "    </tr>\n",
              "    <tr>\n",
              "      <th>2</th>\n",
              "      <td>Reddit, google</td>\n",
              "    </tr>\n",
              "    <tr>\n",
              "      <th>3</th>\n",
              "      <td>NaN</td>\n",
              "    </tr>\n",
              "    <tr>\n",
              "      <th>4</th>\n",
              "      <td>NaN</td>\n",
              "    </tr>\n",
              "    <tr>\n",
              "      <th>...</th>\n",
              "      <td>...</td>\n",
              "    </tr>\n",
              "    <tr>\n",
              "      <th>145</th>\n",
              "      <td>Books</td>\n",
              "    </tr>\n",
              "    <tr>\n",
              "      <th>146</th>\n",
              "      <td>Field guides, the internet</td>\n",
              "    </tr>\n",
              "    <tr>\n",
              "      <th>147</th>\n",
              "      <td>NaN</td>\n",
              "    </tr>\n",
              "    <tr>\n",
              "      <th>148</th>\n",
              "      <td>NaN</td>\n",
              "    </tr>\n",
              "    <tr>\n",
              "      <th>149</th>\n",
              "      <td>PictureThis, google lens, and Seek for plant i...</td>\n",
              "    </tr>\n",
              "  </tbody>\n",
              "</table>\n",
              "<p>150 rows × 1 columns</p>\n",
              "</div><br><label><b>dtype:</b> object</label>"
            ]
          },
          "metadata": {},
          "execution_count": 64
        }
      ]
    },
    {
      "cell_type": "code",
      "source": [
        "df['Foraging Resources'] = df['Foraging Resources'].fillna('None')"
      ],
      "metadata": {
        "id": "e40oOX7uJjah"
      },
      "execution_count": 65,
      "outputs": []
    },
    {
      "cell_type": "code",
      "source": [
        "df['Foraging Resources']"
      ],
      "metadata": {
        "colab": {
          "base_uri": "https://localhost:8080/",
          "height": 458
        },
        "id": "rnWe0kllJm8v",
        "outputId": "c4e9b6ce-e72f-4a01-823a-d9500f30ed3d"
      },
      "execution_count": 66,
      "outputs": [
        {
          "output_type": "execute_result",
          "data": {
            "text/plain": [
              "0                                          Growables.org\n",
              "1                                                   None\n",
              "2                                         Reddit, google\n",
              "3                                                   None\n",
              "4                                                   None\n",
              "                             ...                        \n",
              "145                                                Books\n",
              "146                           Field guides, the internet\n",
              "147                                                 None\n",
              "148                                                 None\n",
              "149    PictureThis, google lens, and Seek for plant i...\n",
              "Name: Foraging Resources, Length: 150, dtype: object"
            ],
            "text/html": [
              "<div>\n",
              "<style scoped>\n",
              "    .dataframe tbody tr th:only-of-type {\n",
              "        vertical-align: middle;\n",
              "    }\n",
              "\n",
              "    .dataframe tbody tr th {\n",
              "        vertical-align: top;\n",
              "    }\n",
              "\n",
              "    .dataframe thead th {\n",
              "        text-align: right;\n",
              "    }\n",
              "</style>\n",
              "<table border=\"1\" class=\"dataframe\">\n",
              "  <thead>\n",
              "    <tr style=\"text-align: right;\">\n",
              "      <th></th>\n",
              "      <th>Foraging Resources</th>\n",
              "    </tr>\n",
              "  </thead>\n",
              "  <tbody>\n",
              "    <tr>\n",
              "      <th>0</th>\n",
              "      <td>Growables.org</td>\n",
              "    </tr>\n",
              "    <tr>\n",
              "      <th>1</th>\n",
              "      <td>None</td>\n",
              "    </tr>\n",
              "    <tr>\n",
              "      <th>2</th>\n",
              "      <td>Reddit, google</td>\n",
              "    </tr>\n",
              "    <tr>\n",
              "      <th>3</th>\n",
              "      <td>None</td>\n",
              "    </tr>\n",
              "    <tr>\n",
              "      <th>4</th>\n",
              "      <td>None</td>\n",
              "    </tr>\n",
              "    <tr>\n",
              "      <th>...</th>\n",
              "      <td>...</td>\n",
              "    </tr>\n",
              "    <tr>\n",
              "      <th>145</th>\n",
              "      <td>Books</td>\n",
              "    </tr>\n",
              "    <tr>\n",
              "      <th>146</th>\n",
              "      <td>Field guides, the internet</td>\n",
              "    </tr>\n",
              "    <tr>\n",
              "      <th>147</th>\n",
              "      <td>None</td>\n",
              "    </tr>\n",
              "    <tr>\n",
              "      <th>148</th>\n",
              "      <td>None</td>\n",
              "    </tr>\n",
              "    <tr>\n",
              "      <th>149</th>\n",
              "      <td>PictureThis, google lens, and Seek for plant i...</td>\n",
              "    </tr>\n",
              "  </tbody>\n",
              "</table>\n",
              "<p>150 rows × 1 columns</p>\n",
              "</div><br><label><b>dtype:</b> object</label>"
            ]
          },
          "metadata": {},
          "execution_count": 66
        }
      ]
    },
    {
      "cell_type": "code",
      "source": [
        "df['Foraging Resources'] = (\n",
        "    df['Foraging Resources']\n",
        "    .str.replace('I have an app that helps to systematically ID seaweed \"Seaweed Sorter\"', 'Seaweed Sorter', case=False)\n",
        "    .str.replace('My own personal logs', 'None', case=False)\n",
        "    .str.replace('inaturalist, word of mouth, foraging field guides', 'iNaturalist, Foraging field guides', case=False)\n",
        "    .str.replace('Books about local edible plants', 'Books', case=False)\n",
        "    .str.replace('Facebook community and PlantNet for ID', 'Facebook, PlanetNet', case=False)\n",
        "    .str.replace('word of mouth', 'None', case=False)\n",
        "    .str.replace('Various online resources, especially for mushrooms.', 'General Online Resources', case=False)\n",
        "    .str.replace('Several books', 'Books', case=False)\n",
        "    .str.replace('Handbooks and physical printed guides', 'Guidebooks', case=False)\n",
        "    .str.replace('Tool libraries, word of mouth,', 'Library Tools', case=False)\n",
        "    .str.replace('iNaturalist, mainly', 'iNaturalist', case=False)\n",
        "    .str.replace('Fb groups', 'Facebook', case=False)\n",
        "    .str.replace('Pretty much just walking around and looking for fruit trees', 'None', case=False)\n",
        "    .str.replace('I actually use Pinterest a lot.', 'Pinterest', case=False)\n",
        "    .str.replace('Is there anything else besides  falling fruit', 'None', case=False)\n",
        "    .str.replace('Reddit communities are pretty good. Facebook is weak. ', 'Reddit', case=False)\n",
        "    .str.replace('I use municipal tree inventories.', 'municipal tree inventories', case=False)\n",
        "    .str.replace('Word of mouth.', 'None', case=False)\n",
        "    .str.replace('Inatrualist', 'iNaturalist', case=False)\n",
        "    .str.replace(\"iNaturalist a bit; it has a larger user base, but isn't focused on fruit so it can lead to a lot of false positives when you seek out a pawpaw grove or something and find that the tree is there but it doesn't produce anything.\", 'iNaturalist', case=False)\n",
        "    .str.replace('none. i google if somethings poisonous or not ', 'None', case=False)\n",
        "    .str.replace('Facebook groups', 'Facebook', case=False)\n",
        "    .str.replace('Books and identification apps (Shroomify and PlantNet)', 'Shroomify, PlantNet', case=False)\n",
        "    .str.replace(\"iNaturalist, but it's not as useful because it's more broadly focused.\", 'iNaturalist', case=False)\n",
        "    .str.replace('Flora Incognita is my FAVORITE app for identifying plants. It tells you each plants medicinal uses, edible uses, and toxicity.  It is AMAZING! ', 'Flora Incognita', case=False)\n",
        "    .str.replace('Identification books, plant net', 'Books, PlanetNet', case=False)\n",
        "    .str.replace('My eyes when I walk', 'None', case=False)\n",
        "    .str.replace('YouTube creators', 'Youtube', case=False)\n",
        "    .str.replace('Word of mouth', 'None', case=False)\n",
        "    .str.replace(\"Seek (I know I shouldn't), personal experience, guidebooks, Practical Self Reliance blog\", 'Seek, Guidebooks, Practical Self Reliance blog', case=False)\n",
        "    .str.replace(\"Books. Love Sam Thayer's stuff.\", 'Books', case=False)\n",
        "    .str.replace('Internet search generally for identification', 'General Online Resources', case=False)\n",
        "    .str.replace(\"I don't have another other resources\", 'None', case=False)\n",
        "    .str.replace('I wish there was a better Reddit thread for foraging in NYC!!', 'Reddit', case=False)\n",
        "    .str.replace('Many layers of maby things. ', 'None', case=False)\n",
        "    .str.replace('Books, acquired knowledge.', 'Books', case=False)\n",
        "    .str.replace('Nil.', 'None', case=False)\n",
        "    .str.replace('YouTube videos. I would get teknowm books with good images and descriptions if I could afford them. ', 'Youtube', case=False)\n",
        "    .str.replace(\"I sometimes use http://tree.id when I need help identifying something. It's a great tool.\", 'Tree ID', case=False)\n",
        "    .str.replace('Just bush knowledge! ', 'None', case=False)\n",
        "    .str.replace('There is no foraging commuunity.', 'None', case=False)\n",
        "    .str.replace('local knowledge.', 'None', case=False)\n",
        "    .str.replace('PictureThis, google lens, and Seek for plant id, and foraging subreddits for in depth discussion or questions', 'PictureThis, Google, Seek, Reddit', case=False)\n",
        ")"
      ],
      "metadata": {
        "id": "pz0AVAADPNny"
      },
      "execution_count": 67,
      "outputs": []
    },
    {
      "cell_type": "code",
      "source": [
        "df['Foraging Resources']"
      ],
      "metadata": {
        "colab": {
          "base_uri": "https://localhost:8080/",
          "height": 458
        },
        "id": "LB7p6b4uParB",
        "outputId": "d710c2c9-4aa8-4efd-8e57-9b2e6ecc6df2"
      },
      "execution_count": 68,
      "outputs": [
        {
          "output_type": "execute_result",
          "data": {
            "text/plain": [
              "0                          Growables.org\n",
              "1                                   None\n",
              "2                         Reddit, google\n",
              "3                                   None\n",
              "4                                   None\n",
              "                     ...                \n",
              "145                                Books\n",
              "146           Field guides, the internet\n",
              "147                                 None\n",
              "148                                 None\n",
              "149    PictureThis, Google, Seek, Reddit\n",
              "Name: Foraging Resources, Length: 150, dtype: object"
            ],
            "text/html": [
              "<div>\n",
              "<style scoped>\n",
              "    .dataframe tbody tr th:only-of-type {\n",
              "        vertical-align: middle;\n",
              "    }\n",
              "\n",
              "    .dataframe tbody tr th {\n",
              "        vertical-align: top;\n",
              "    }\n",
              "\n",
              "    .dataframe thead th {\n",
              "        text-align: right;\n",
              "    }\n",
              "</style>\n",
              "<table border=\"1\" class=\"dataframe\">\n",
              "  <thead>\n",
              "    <tr style=\"text-align: right;\">\n",
              "      <th></th>\n",
              "      <th>Foraging Resources</th>\n",
              "    </tr>\n",
              "  </thead>\n",
              "  <tbody>\n",
              "    <tr>\n",
              "      <th>0</th>\n",
              "      <td>Growables.org</td>\n",
              "    </tr>\n",
              "    <tr>\n",
              "      <th>1</th>\n",
              "      <td>None</td>\n",
              "    </tr>\n",
              "    <tr>\n",
              "      <th>2</th>\n",
              "      <td>Reddit, google</td>\n",
              "    </tr>\n",
              "    <tr>\n",
              "      <th>3</th>\n",
              "      <td>None</td>\n",
              "    </tr>\n",
              "    <tr>\n",
              "      <th>4</th>\n",
              "      <td>None</td>\n",
              "    </tr>\n",
              "    <tr>\n",
              "      <th>...</th>\n",
              "      <td>...</td>\n",
              "    </tr>\n",
              "    <tr>\n",
              "      <th>145</th>\n",
              "      <td>Books</td>\n",
              "    </tr>\n",
              "    <tr>\n",
              "      <th>146</th>\n",
              "      <td>Field guides, the internet</td>\n",
              "    </tr>\n",
              "    <tr>\n",
              "      <th>147</th>\n",
              "      <td>None</td>\n",
              "    </tr>\n",
              "    <tr>\n",
              "      <th>148</th>\n",
              "      <td>None</td>\n",
              "    </tr>\n",
              "    <tr>\n",
              "      <th>149</th>\n",
              "      <td>PictureThis, Google, Seek, Reddit</td>\n",
              "    </tr>\n",
              "  </tbody>\n",
              "</table>\n",
              "<p>150 rows × 1 columns</p>\n",
              "</div><br><label><b>dtype:</b> object</label>"
            ]
          },
          "metadata": {},
          "execution_count": 68
        }
      ]
    }
  ]
}